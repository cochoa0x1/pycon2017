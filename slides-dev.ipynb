{
 "cells": [
  {
   "cell_type": "markdown",
   "metadata": {
    "nbpresent": {
     "id": "2d453c6f-d6a3-4c50-a3c2-a69472c60aa1"
    },
    "slideshow": {
     "slide_type": "slide"
    }
   },
   "source": [
    "# The Joy of Integer Programming\n",
    "### Solving hard combinatorial problems in python\n",
    "\n",
    "<hr>\n",
    "### Charles C. Ochoa\n",
    "\n",
    "### slides: [http://bit.ly/pycseoul](http://bit.ly/pycseoul)\n",
    "\n",
    "\n",
    "\n",
    "<hr>\n",
    "\n",
    "<img src=\"img/pyconlogo-03.png\" align=\"left\"/>\n",
    "\n",
    "\n",
    "<script>\n",
    "\n",
    "$(document).ready(function(){\n",
    "    setTimeout(fix,1000); //wait a little bit and then run\n",
    "    });\n",
    "\n",
    "\n",
    "function fix(){\n",
    "    //Reveal.configure({height:\"100%\"});\n",
    "    //Reveal.configure({width:\"100%\"});\n",
    "    //Reveal.configure({margin:0});\n",
    "    //Reveal.configure({minScale:1});\n",
    "    //Reveal.configure({maxScale:3.0});\n",
    "    $(\".prompt\").remove();\n",
    "    //Reveal.configure({parallaxBackgroundImage:\"img/slide1.svg\"});\n",
    "    \n",
    "    Reveal.configure({controls: false});\n",
    "    Reveal.configure({progress: false});\n",
    "    \n",
    "    //map the clicker's buttons \n",
    "    Reveal.configure({\n",
    "        keyboard: {\n",
    "            37: 'prev',\n",
    "            38: 'prev',\n",
    "            39: 'next',\n",
    "            40: 'next'\n",
    "        }\n",
    "});\n",
    "    \n",
    "};\n",
    "\n",
    "</script>"
   ]
  },
  {
   "cell_type": "markdown",
   "metadata": {
    "nbpresent": {
     "id": "33447510-3fb7-4289-aa59-e388b78fabde"
    },
    "slideshow": {
     "slide_type": "subslide"
    }
   },
   "source": [
    "# <a style=\"color:red\">Computationally</a> Hard problems:\n",
    "\n",
    "## \"When we don't have a good efficient algorithm to solve it, but we still need to solve it\""
   ]
  },
  {
   "cell_type": "markdown",
   "metadata": {
    "slideshow": {
     "slide_type": "fragment"
    }
   },
   "source": [
    "* Traveling Salesman"
   ]
  },
  {
   "cell_type": "markdown",
   "metadata": {
    "slideshow": {
     "slide_type": "fragment"
    }
   },
   "source": [
    "* What is the optimal route for a delivery vehicle?"
   ]
  },
  {
   "cell_type": "markdown",
   "metadata": {
    "slideshow": {
     "slide_type": "fragment"
    }
   },
   "source": [
    "* How to assign tasks to workers?"
   ]
  },
  {
   "cell_type": "markdown",
   "metadata": {
    "slideshow": {
     "slide_type": "fragment"
    }
   },
   "source": [
    "* What is the best ordering of pycon talks?"
   ]
  },
  {
   "cell_type": "markdown",
   "metadata": {
    "slideshow": {
     "slide_type": "fragment"
    }
   },
   "source": [
    "* Where should a new warehouse be opened?"
   ]
  },
  {
   "cell_type": "markdown",
   "metadata": {
    "slideshow": {
     "slide_type": "fragment"
    }
   },
   "source": [
    "* Which employees should be grouped together for a project\n",
    "\n",
    "<br>\n",
    "^ NP-Hard and/or NP-Complete"
   ]
  },
  {
   "cell_type": "markdown",
   "metadata": {
    "nbpresent": {
     "id": "2e3562fa-8767-4b8f-809d-77c70d4cef7a"
    },
    "slideshow": {
     "slide_type": "slide"
    }
   },
   "source": [
    "# Math Programming?\n",
    "<br>\n",
    "<center><img src=\"img/math.gif\"/></center>\n",
    "\n"
   ]
  },
  {
   "cell_type": "markdown",
   "metadata": {
    "slideshow": {
     "slide_type": "fragment"
    }
   },
   "source": [
    "## basically:  [<b style=\"color:red\">최적화</b>] \"optimization\""
   ]
  },
  {
   "cell_type": "markdown",
   "metadata": {
    "slideshow": {
     "slide_type": "subslide"
    }
   },
   "source": [
    "$$\\large \\text{minimize: } f(x)\n",
    "\\\\\n",
    "\\large \\text{subject to: } g(x) < 0$$\n"
   ]
  },
  {
   "cell_type": "markdown",
   "metadata": {
    "slideshow": {
     "slide_type": "subslide"
    }
   },
   "source": [
    "# [<b style=\"color:red\">선형 프로그램</b>] Linear Programs?\n",
    "\n",
    "A linear program is one where the metric or objective to minimize is linear and the constraints are linear, i.e.:\n",
    "\n",
    "$$\\large f(x) = a_{0}x_{0} + a_{1}x_{1}+ \\dots + a_{n}x_{n}$$\n"
   ]
  },
  {
   "cell_type": "markdown",
   "metadata": {
    "slideshow": {
     "slide_type": "fragment"
    }
   },
   "source": [
    "### linear:\n",
    "$$\\large f(x) = 3x + 2y$$\n"
   ]
  },
  {
   "cell_type": "markdown",
   "metadata": {
    "slideshow": {
     "slide_type": "fragment"
    }
   },
   "source": [
    "### not linear:\n",
    "$$\\large f(x) = 3x*y+15$$\n"
   ]
  },
  {
   "cell_type": "markdown",
   "metadata": {
    "slideshow": {
     "slide_type": "fragment"
    }
   },
   "source": [
    "# [<b style=\"color:red\">정수</b>] Integer Programs?\n",
    "\n",
    "Problems where the variables are <b>integers</b> i.e, 0,1,2,3,... and the negatives."
   ]
  },
  {
   "cell_type": "markdown",
   "metadata": {
    "slideshow": {
     "slide_type": "subslide"
    }
   },
   "source": [
    "# Very mature field\n",
    "\n",
    "* Very mature topic in Operations Research\n",
    "* Industrial engineers \n",
    "* Computer science\n",
    "* Mathematics\n"
   ]
  },
  {
   "cell_type": "markdown",
   "metadata": {
    "slideshow": {
     "slide_type": "subslide"
    }
   },
   "source": [
    "# Lots of tools and languages exist\n",
    "\n",
    "|Name|License|Info|\n",
    "|---|---|---|\n",
    "|ADMB|\tBSD|\tnonlinear optimization framework, using automatic differentiation|\n",
    "|ALGLIB|\tGPL|\tnonlinear analysis library, optionally using automatic differentiation. Cross-language: C++, C#, Pascal, VBA.|\n",
    "|ASCEND|\tGPL|\tmathematical modelling system|\n",
    "|BOBYQA|\tLGPL|\tAn algorithm that seeks the least value of a nonlinear function subject to bound constraints, without using derivatives of the objective function.|\n",
    "|COBYLA|\tLGPL|\tAn algorithm that seeks the least value of a nonlinear function subject to nonlinear inequality constraints, without using derivatives of the objective function or the constraints.|\n",
    "|COIN-OR SYMPHONY|\tEclipse v.1|\tinteger programming|\n",
    "|CUTEr|\tGPL|\ttesting environment for optimization and linear algebra solvers|\n",
    "|dlib|\tBoost|\tA stand-alone C++ library with a variety of linear and non-linear solvers for small and large scale problems|\n",
    "|GLPK|\tGPL|\tGNU Linear Programming Kit|\n",
    "\n",
    "^ small sample (source: [wikipedia](https://en.wikipedia.org/wiki/List_of_optimization_software)), the full list is much much longer\n"
   ]
  },
  {
   "cell_type": "markdown",
   "metadata": {
    "slideshow": {
     "slide_type": "slide"
    }
   },
   "source": [
    "\n",
    "<center><img src=\"img/python_basic.png\"/></center>\n",
    "\n",
    "## Python PuLP package for linear mixed integer program modeling"
   ]
  },
  {
   "cell_type": "markdown",
   "metadata": {
    "slideshow": {
     "slide_type": "fragment"
    }
   },
   "source": [
    "```bash \n",
    "pip install pulp\n",
    "```"
   ]
  },
  {
   "cell_type": "markdown",
   "metadata": {
    "nbpresent": {
     "id": "49ca3003-d68a-4a0d-8ce2-cb6dfa7b7edd"
    },
    "slideshow": {
     "slide_type": "slide"
    }
   },
   "source": [
    "# Basic Example \n",
    "<br>\n",
    "$$\\large \\text{Minimize: } f(x,y,z)=5x+10y+6z\n",
    "\\\\\n",
    "\\large \\text{subject to}\n",
    "\\\\\n",
    "\\large x+y+z \\geq 20\n",
    "\\\\\n",
    "\\large 0\\leq x,y,z \\leq 10 \n",
    "$$\n"
   ]
  },
  {
   "cell_type": "markdown",
   "metadata": {
    "nbpresent": {
     "id": "edb1f534-8378-48eb-9701-7589a919e0d8"
    },
    "slideshow": {
     "slide_type": "subslide"
    }
   },
   "source": [
    "## 1. Setup the problem"
   ]
  },
  {
   "cell_type": "code",
   "execution_count": 1,
   "metadata": {
    "collapsed": true,
    "nbpresent": {
     "id": "bdd9849c-fe08-4917-a24c-909a7203168a"
    },
    "slideshow": {
     "slide_type": "-"
    }
   },
   "outputs": [],
   "source": [
    "from pulp import *\n",
    "\n",
    "prob = LpProblem(\"Hello!\",LpMinimize)"
   ]
  },
  {
   "cell_type": "markdown",
   "metadata": {
    "nbpresent": {
     "id": "bbc15764-aadc-4d1b-b983-92166d476aca"
    },
    "slideshow": {
     "slide_type": "subslide"
    }
   },
   "source": [
    "## 2. Setup the variables: "
   ]
  },
  {
   "cell_type": "code",
   "execution_count": 2,
   "metadata": {
    "collapsed": true,
    "nbpresent": {
     "id": "07604c93-812a-49b3-b68a-986490934f19"
    },
    "slideshow": {
     "slide_type": "-"
    }
   },
   "outputs": [],
   "source": [
    "x = LpVariable('x',lowBound=0, upBound=10, cat='Continuous')\n",
    "y = LpVariable('y',lowBound=0, upBound=10, cat='Continuous')\n",
    "z = LpVariable('z',lowBound=0, upBound=10, cat='Continuous')"
   ]
  },
  {
   "cell_type": "markdown",
   "metadata": {
    "nbpresent": {
     "id": "6a403843-f327-4829-a235-fac4bc6f6f51"
    },
    "slideshow": {
     "slide_type": "subslide"
    }
   },
   "source": [
    "## 3. Setup the objective and constraints"
   ]
  },
  {
   "cell_type": "code",
   "execution_count": 3,
   "metadata": {
    "collapsed": true,
    "nbpresent": {
     "id": "8173658a-f857-4de4-8895-937e527672ef"
    },
    "slideshow": {
     "slide_type": "-"
    }
   },
   "outputs": [],
   "source": [
    "#the objective\n",
    "prob+= 5*x+10*y+6*z"
   ]
  },
  {
   "cell_type": "code",
   "execution_count": 4,
   "metadata": {
    "collapsed": true,
    "slideshow": {
     "slide_type": "fragment"
    }
   },
   "outputs": [],
   "source": [
    "#the constraint\n",
    "prob+= x + y + z >= 20"
   ]
  },
  {
   "cell_type": "markdown",
   "metadata": {
    "nbpresent": {
     "id": "b77860f0-32ea-4366-b3d4-e7322250c6b1"
    },
    "slideshow": {
     "slide_type": "subslide"
    }
   },
   "source": [
    "## Summary"
   ]
  },
  {
   "cell_type": "code",
   "execution_count": 5,
   "metadata": {
    "nbpresent": {
     "id": "de97127f-b406-4afc-9b43-8b4ccc78d880"
    },
    "slideshow": {
     "slide_type": "-"
    }
   },
   "outputs": [
    {
     "name": "stdout",
     "output_type": "stream",
     "text": [
      "Hello!:\n",
      "MINIMIZE\n",
      "5*x + 10*y + 6*z + 0\n",
      "SUBJECT TO\n",
      "_C1: x + y + z >= 20\n",
      "\n",
      "VARIABLES\n",
      "x <= 10 Continuous\n",
      "y <= 10 Continuous\n",
      "z <= 10 Continuous\n",
      "\n"
     ]
    }
   ],
   "source": [
    "print(prob)"
   ]
  },
  {
   "cell_type": "markdown",
   "metadata": {
    "nbpresent": {
     "id": "82a97e6b-90b9-4113-bcac-17e03cd7bf3d"
    },
    "slideshow": {
     "slide_type": "subslide"
    }
   },
   "source": [
    "## Solve it!"
   ]
  },
  {
   "cell_type": "code",
   "execution_count": 6,
   "metadata": {
    "nbpresent": {
     "id": "45cd1c3d-d561-40c2-ba43-e17b76b45b84"
    },
    "slideshow": {
     "slide_type": "-"
    }
   },
   "outputs": [
    {
     "name": "stdout",
     "output_type": "stream",
     "text": [
      "status: Optimal\n",
      "objective: 110.0\n"
     ]
    }
   ],
   "source": [
    "prob.solve()\n",
    "print('status:',LpStatus[prob.status])\n",
    "print('objective:', value(prob.objective))"
   ]
  },
  {
   "cell_type": "code",
   "execution_count": 7,
   "metadata": {
    "slideshow": {
     "slide_type": "fragment"
    }
   },
   "outputs": [
    {
     "name": "stdout",
     "output_type": "stream",
     "text": [
      "x 10.0\n",
      "y 0.0\n",
      "z 10.0\n"
     ]
    }
   ],
   "source": [
    "for v in prob.variables():\n",
    "    print(v, v.varValue)"
   ]
  },
  {
   "cell_type": "markdown",
   "metadata": {
    "nbpresent": {
     "id": "dd555cad-0919-403f-b9b8-e0eb500b1b83"
    },
    "slideshow": {
     "slide_type": "slide"
    }
   },
   "source": [
    "# Knapsack Problem\n",
    "\n",
    "Which items of different weights and values can we fit in our backpack before it is too heavy. Which objects should we take?\n",
    "\n",
    "<center><img src=\"img/knapsack.svg\"/></center>\n",
    "\n",
    "\n",
    "^ image source: [wikipedia](https://commons.wikimedia.org/wiki/File:Knapsack.svg)"
   ]
  },
  {
   "cell_type": "markdown",
   "metadata": {
    "slideshow": {
     "slide_type": "subslide"
    }
   },
   "source": [
    "# The Model\n",
    "<br>\n",
    "$$\\large x_i = \\begin{cases}\n",
    "    1, & \\text{if item i is added to our backpack} \\\\\n",
    "    0, & \\text{otherwise}\n",
    "\\end{cases}\n",
    "$$\n",
    "<br>\n",
    "<br>\n",
    "<br>\n",
    "$$\\large \\text{Maximize total value:} \\quad f(x)=\\sum_{i} x_i*value_i$$\n",
    "<br>\n",
    "<br>\n",
    "$$\\large \\text{make sure we don't carry too much weight:} \\quad \\sum_{i} x_i*weight_i \\leq W$$\n"
   ]
  },
  {
   "cell_type": "markdown",
   "metadata": {
    "nbpresent": {
     "id": "fb773be6-847a-4c81-9115-1dd2fce4f73b"
    },
    "slideshow": {
     "slide_type": "subslide"
    }
   },
   "source": [
    "## First lets make some fake data"
   ]
  },
  {
   "cell_type": "code",
   "execution_count": 8,
   "metadata": {
    "collapsed": true,
    "nbpresent": {
     "id": "a1a14a40-77af-4116-bff4-88b0c0280401"
    },
    "slideshow": {
     "slide_type": "-"
    }
   },
   "outputs": [],
   "source": [
    "import numpy as np\n",
    "np.random.seed(42)\n",
    "\n",
    "items=['item_%d'%i for i in range(50)]\n",
    "item_weights = dict( (i,np.random.randint(1,50)) for i in items)\n",
    "item_values = dict( (i,np.random.randint(1,100)) for i in items)\n",
    "\n",
    "#target weight\n",
    "W = 100"
   ]
  },
  {
   "cell_type": "code",
   "execution_count": 9,
   "metadata": {
    "collapsed": true,
    "nbpresent": {
     "id": "f55cad95-54f3-40ea-9e05-6a6959037ad9"
    },
    "slideshow": {
     "slide_type": "fragment"
    }
   },
   "outputs": [],
   "source": [
    "#create the problem\n",
    "prob=LpProblem(\"knapsack\",LpMaximize)\n",
    "\n",
    "#variables\n",
    "x = LpVariable.dicts('item',items,0,1, LpBinary)\n",
    "\n",
    "#the objective\n",
    "prob+= lpSum([ item_values[i]*x[i] for i in items])\n",
    "\n",
    "#constraint\n",
    "prob += lpSum([ item_weights[i]*x[i] for i in items]) <= W"
   ]
  },
  {
   "cell_type": "markdown",
   "metadata": {
    "slideshow": {
     "slide_type": "subslide"
    }
   },
   "source": [
    "## Results"
   ]
  },
  {
   "cell_type": "code",
   "execution_count": 10,
   "metadata": {
    "nbpresent": {
     "id": "72be02c1-7f00-45a3-9396-fb51eb65febc"
    },
    "slideshow": {
     "slide_type": "-"
    }
   },
   "outputs": [
    {
     "name": "stdout",
     "output_type": "stream",
     "text": [
      "Optimal\n",
      "item_4: \tweight: 8\tvalue: 44\n",
      "item_9: \tweight: 11\tvalue: 81\n",
      "item_10: \tweight: 11\tvalue: 36\n",
      "item_15: \tweight: 3\tvalue: 54\n",
      "item_17: \tweight: 2\tvalue: 54\n",
      "item_18: \tweight: 24\tvalue: 93\n",
      "item_22: \tweight: 2\tvalue: 44\n",
      "item_25: \tweight: 12\tvalue: 62\n",
      "item_37: \tweight: 3\tvalue: 82\n",
      "item_41: \tweight: 9\tvalue: 89\n",
      "item_44: \tweight: 4\tvalue: 29\n",
      "item_47: \tweight: 9\tvalue: 65\n",
      "item_49: \tweight: 2\tvalue: 71\n",
      "Total: \t\tweight: 100\tvalue: 804\n"
     ]
    }
   ],
   "source": [
    "prob.solve()\n",
    "print(LpStatus[prob.status])\n",
    "\n",
    "#and the results\n",
    "for i in items:\n",
    "    if value(x[i]) > 0:\n",
    "        print('%s: \\tweight: %i\\tvalue: %i'%(i, item_weights[i], item_values[i]))\n",
    "        \n",
    "total_weight = np.sum([ item_weights[i]*value(x[i]) for i in items])\n",
    "print('Total: \\t\\tweight: %i\\tvalue: %i'%(total_weight, value(prob.objective)) )"
   ]
  },
  {
   "cell_type": "markdown",
   "metadata": {
    "slideshow": {
     "slide_type": "subslide"
    }
   },
   "source": [
    "<h1><center>😎</center></h1>"
   ]
  },
  {
   "cell_type": "markdown",
   "metadata": {
    "slideshow": {
     "slide_type": "slide"
    }
   },
   "source": [
    "# Traveling salesman\n",
    "\n",
    "What is the optimal route to visit all the locations?\n",
    "\n",
    "<center><img src=\"img/no_subtour.png\"/></center>\n"
   ]
  },
  {
   "cell_type": "markdown",
   "metadata": {
    "slideshow": {
     "slide_type": "subslide"
    }
   },
   "source": [
    "# The Model\n",
    "<br>\n",
    "$$\\large x_{i,j} = \\begin{cases}\n",
    "    1, & \\text{if site i comes exactly before j in the tour} \\\\\n",
    "    0, & \\text{otherwise}\n",
    "\\end{cases}\n",
    "\\large \\quad \\text{for all } i \\neq j\n",
    "$$\n",
    "\n",
    "<br>\n",
    "$$\\large \\text{Minimize the total tour distance:} \\quad f(x) = \\sum_{i,j \\space i \\neq j} x_{i,j} Distance(i,j)$$\n"
   ]
  },
  {
   "cell_type": "markdown",
   "metadata": {
    "slideshow": {
     "slide_type": "fragment"
    }
   },
   "source": [
    "## Each site gets visited once\n",
    "<br>\n",
    "$$\\large \\text{exactly one way to enter a give site j:} \\quad \\sum_{i \\neq j} x_{i,j} = 1 \\space \\text{for all j}\n",
    "\\\\\n",
    "\\large \\text{and only one way to exit:} \\quad \\quad \\quad \\quad \\quad \\quad  \\sum_{i \\neq j} x_{i,j} = 1 \\space \\text{for all i} $$"
   ]
  },
  {
   "cell_type": "markdown",
   "metadata": {
    "slideshow": {
     "slide_type": "subslide"
    }
   },
   "source": [
    "## This almost works, but there is a problem...\n",
    "\n",
    "### Subtours:\n",
    "\n",
    "we might end up with this:\n",
    "\n",
    "<center><img src=\"img/subtour.png\" style=\"height:300px\"/></center>"
   ]
  },
  {
   "cell_type": "markdown",
   "metadata": {
    "slideshow": {
     "slide_type": "subslide"
    }
   },
   "source": [
    "## if we find a subtour, eliminate it 😈 \n",
    "<br>\n",
    "$$\\large \\sum_{j,i} x_{i,j} \\geq 1 \\space \\text{where i is in the subtour and j is not} $$ \n",
    "<br>\n",
    "<center><img src=\"img/subtour_eliminated.png\" style=\"height:300px\"/></center>"
   ]
  },
  {
   "cell_type": "code",
   "execution_count": 11,
   "metadata": {
    "collapsed": true,
    "slideshow": {
     "slide_type": "skip"
    }
   },
   "outputs": [],
   "source": [
    "#note this code is hidden in the slides because it is not very interesting\n",
    "import matplotlib.pyplot as plt\n",
    "import seaborn as sn\n",
    "import networkx as nx\n",
    "%matplotlib inline\n",
    "\n",
    "import warnings; warnings.simplefilter('ignore')\n",
    "\n",
    "def draw_data(sites,positions):\n",
    "    plt.figure(figsize=(8,4.5))\n",
    "    G = nx.Graph()\n",
    "    G.add_nodes_from(sites)\n",
    "    nx.draw(G, pos=positions, node_size=40, node_color='orange', with_labels=False)"
   ]
  },
  {
   "cell_type": "markdown",
   "metadata": {
    "slideshow": {
     "slide_type": "subslide"
    }
   },
   "source": [
    "## Make some fake data"
   ]
  },
  {
   "cell_type": "code",
   "execution_count": 12,
   "metadata": {
    "slideshow": {
     "slide_type": "-"
    }
   },
   "outputs": [
    {
     "data": {
      "image/png": "[encoded data removed]",
      "text/plain": [
       "<matplotlib.figure.Figure at 0x10f0b1518>"
      ]
     },
     "metadata": {},
     "output_type": "display_data"
    }
   ],
   "source": [
    "np.random.seed(42)\n",
    "\n",
    "sites = range(200) #make 200 sites\n",
    "\n",
    "#make up some location for them\n",
    "positions = dict( ( a, (np.random.rand()-.5, np.random.rand()-.5)) for a in sites)\n",
    "\n",
    "#straight line distance for simplicity\n",
    "d = lambda p1,p2: np.sqrt( (p1[0]-p2[0])**2+ (p1[1]-p2[1])**2)\n",
    "\n",
    "#calculate all the distance pairs\n",
    "distances=dict( ((s1,s2), d(positions[s1],positions[s2])) for s1 in positions for s2 in positions if s1!=s2)\n",
    "\n",
    "draw_data(sites,positions)"
   ]
  },
  {
   "cell_type": "markdown",
   "metadata": {
    "slideshow": {
     "slide_type": "subslide"
    }
   },
   "source": [
    "## Create the problem"
   ]
  },
  {
   "cell_type": "code",
   "execution_count": 13,
   "metadata": {
    "collapsed": true,
    "slideshow": {
     "slide_type": "-"
    }
   },
   "outputs": [],
   "source": [
    "prob=LpProblem(\"salesman\",LpMinimize)\n",
    "\n",
    "#variables: 1 if site i is connected to site j in the tour else 0\n",
    "x = LpVariable.dicts('x',distances, 0,1,LpBinary)\n",
    "\n",
    "#the objective\n",
    "prob += lpSum([x[(i,j)]*distances[(i,j)] for (i,j) in distances])\n",
    "\n",
    "#constraints\n",
    "for k in sites:\n",
    "    #inbound connection\n",
    "    prob+= lpSum([ x[(i,k)] for i in sites if i!=k ]) ==1\n",
    "    #outbound connection\n",
    "    prob+= lpSum([ x[(k,i)] for i in sites if i!=k ]) ==1"
   ]
  },
  {
   "cell_type": "markdown",
   "metadata": {
    "slideshow": {
     "slide_type": "subslide"
    }
   },
   "source": [
    "## Solve and eliminate subtours until finished"
   ]
  },
  {
   "cell_type": "code",
   "execution_count": 14,
   "metadata": {
    "slideshow": {
     "slide_type": "-"
    }
   },
   "outputs": [
    {
     "name": "stdout",
     "output_type": "stream",
     "text": [
      "solving... contains 94 subtours\n",
      "solving... contains 23 subtours\n",
      "solving... contains 14 subtours\n",
      "solving... contains 18 subtours\n",
      "solving... contains 10 subtours\n",
      "solving... contains 6 subtours\n",
      "solving... contains 3 subtours\n",
      "solving... contains 3 subtours\n",
      "solving... contains 1 subtours\n",
      "done! Optimal\n"
     ]
    }
   ],
   "source": [
    "subtours = sites\n",
    "while(len(subtours) > 1):\n",
    "    print('solving... ',end='')\n",
    "    \n",
    "    status = prob.solve()\n",
    "    \n",
    "    if status != 1:\n",
    "        print('failed')\n",
    "        break\n",
    "    \n",
    "    #check for cycles\n",
    "    non_zero_edges = [ k for k in distances if x[k].varValue >0]\n",
    "    G = nx.DiGraph(non_zero_edges)\n",
    "    subtours = list(nx.simple_cycles(G))\n",
    "    print('contains %i subtours'%len(subtours))\n",
    "    \n",
    "    #add the constraints to break these specific subtours\n",
    "    for sub in subtours:\n",
    "        prob+=lpSum([x[(a,b)] for a in sub for b in set(sites) - set(sub)]) >=1\n",
    "    \n",
    "print('done!',LpStatus[prob.status])"
   ]
  },
  {
   "cell_type": "markdown",
   "metadata": {
    "slideshow": {
     "slide_type": "subslide"
    }
   },
   "source": [
    "## Result!"
   ]
  },
  {
   "cell_type": "code",
   "execution_count": 15,
   "metadata": {
    "slideshow": {
     "slide_type": "-"
    }
   },
   "outputs": [
    {
     "data": {
      "image/png": "[encoded data removed]",
      "text/plain": [
       "<matplotlib.figure.Figure at 0x10f0b1f28>"
      ]
     },
     "metadata": {},
     "output_type": "display_data"
    }
   ],
   "source": [
    "plt.figure(figsize=(16,9))\n",
    "nx.draw(G.to_undirected(), pos=positions,node_size=90,node_color='orange')"
   ]
  },
  {
   "cell_type": "markdown",
   "metadata": {
    "slideshow": {
     "slide_type": "slide"
    }
   },
   "source": [
    "# Binary variables are awesome\n",
    " \n",
    "|logical operation|new binary variable|\n",
    "|---|---|\n",
    "|$\\large \\text{not } x$\t|$z = 1-x$|\n",
    "|$\\large x \\text{ or } y$|$ z\\large \\geq x \\\\ \\large z \\geq y \\\\ \\large z \\leq x+y$|\n",
    "|$\\large x \\text{ and } y$|$ z\\large \\leq x \\\\ \\large z \\leq y \\\\ \\large  z \\geq x+y - 1$|\n",
    "|$\\large x\\implies y $|$y \\geq x$|"
   ]
  },
  {
   "cell_type": "markdown",
   "metadata": {
    "slideshow": {
     "slide_type": "subslide"
    }
   },
   "source": [
    "## \"Big M method\": Either F holds or G  holds (or both)\"\n",
    "<br>\n",
    "$$\\large F(x) \\geq 0 \\quad \\text{or}\\quad G(x) \\geq 0$$\n",
    "\n",
    "### then create new variable $b$\n",
    "$$\\large \\text{if } b=1 \\text{ then } F(x) \\geq 0\n",
    "\\\\\n",
    "\\large \\text{if } b=0 \\text{ then } G(x) \\geq 0$$\n",
    "<br>\n",
    "\n",
    "$$\\large \\text{Find a bound } M \\text{ st: } \\quad |F| \\leq M \\text{ and } |G| \\leq M$$\n"
   ]
  },
  {
   "cell_type": "markdown",
   "metadata": {
    "slideshow": {
     "slide_type": "fragment"
    }
   },
   "source": [
    "### use this!\n",
    "$$\\large F(x) \\geq -M(1-b)\n",
    "\\\\\n",
    "\\large G(x) \\geq -M(b)$$"
   ]
  },
  {
   "cell_type": "markdown",
   "metadata": {
    "slideshow": {
     "slide_type": "subslide"
    }
   },
   "source": [
    "## Example\n",
    "$$\\large  x \\geq 10 \\text{ or } x \\leq 20, \\quad \\text{ where } -100 \\leq x \\leq 100 $$"
   ]
  },
  {
   "cell_type": "markdown",
   "metadata": {
    "slideshow": {
     "slide_type": "fragment"
    }
   },
   "source": [
    "### Then\n",
    "$$\\large \\text{ set } M=1000$$"
   ]
  },
  {
   "cell_type": "markdown",
   "metadata": {
    "slideshow": {
     "slide_type": "fragment"
    }
   },
   "source": [
    "### Result:\n",
    "$$\\large x \\geq 10 - M(1-b)\n",
    "\\\\\n",
    "\\large x \\leq 20 + M(b)\n",
    "$$"
   ]
  },
  {
   "cell_type": "markdown",
   "metadata": {
    "slideshow": {
     "slide_type": "fragment"
    }
   },
   "source": [
    "### Check:\n",
    "$$\\large \\text{ if } b=1 \\quad \\text { then } x \\geq 10 \\text{ and } x \\leq 1020\n",
    "\\\\\n",
    "\\large \\text{ if } b=0 \\quad \\text { then } x \\geq -990 \\text{ and } x \\leq 20\n",
    "$$"
   ]
  },
  {
   "cell_type": "markdown",
   "metadata": {
    "slideshow": {
     "slide_type": "subslide"
    }
   },
   "source": [
    "## We can model non-linear functions! (kinda)\n",
    "\n",
    "### approximate a non linear function with a piecewise linear approximation\n",
    "\n",
    "\n",
    "<img src=\"img/piecewise.png\"/>\n"
   ]
  },
  {
   "cell_type": "markdown",
   "metadata": {
    "slideshow": {
     "slide_type": "slide"
    }
   },
   "source": [
    "# This is the best result (but we didn't check all of them)\n",
    "<br>\n",
    "\n",
    "<center><img src=\"img/confused_nick.png\"/></center>\n",
    "\n"
   ]
  },
  {
   "cell_type": "markdown",
   "metadata": {
    "slideshow": {
     "slide_type": "subslide"
    }
   },
   "source": [
    "# Solving linear equations with continuous variables is fast (in practice)\n",
    "\n",
    "<br>\n",
    "$$\\large \\text{ Integer} \\subset  \\text{ Continuous}$$\n",
    "\n",
    "<br>\n",
    "so the optimal solution for the integer problem cannot be \"better\" than the solution of the same problem solved continuously"
   ]
  },
  {
   "cell_type": "markdown",
   "metadata": {
    "slideshow": {
     "slide_type": "subslide"
    }
   },
   "source": [
    "# Branch and Bound algorithm\n",
    "\n",
    "Use the bounds obtained from the relaxed solutions to prune nodes in a recursive search of the possible solution space\n",
    "\n",
    "<img src=\"img/binary_tree.png\" align=\"right\"/>\n"
   ]
  },
  {
   "cell_type": "markdown",
   "metadata": {
    "slideshow": {
     "slide_type": "slide"
    }
   },
   "source": [
    "# The not joyful parts\n",
    "\n",
    "* Debugging: \n",
    "    - Check all assumptions, make sure problem is solvable before trying to solve it    "
   ]
  },
  {
   "cell_type": "markdown",
   "metadata": {
    "slideshow": {
     "slide_type": "fragment"
    }
   },
   "source": [
    "* Form matters:\n",
    "    - The way you model the problem has a direct and sometimes dramatic influence on the running time"
   ]
  },
  {
   "cell_type": "markdown",
   "metadata": {
    "slideshow": {
     "slide_type": "fragment"
    }
   },
   "source": [
    "* Hard to know what is hard:\n",
    "    - Some problems finish in seconds, others may take hours"
   ]
  },
  {
   "cell_type": "markdown",
   "metadata": {
    "slideshow": {
     "slide_type": "fragment"
    }
   },
   "source": [
    "* Long running times:\n",
    "    - accept a result within a certain percentage of the optimal bound\n",
    "    ```python\n",
    "    prob.solve(PULP_CBC_CMD(threads=8,msg=1,options=[\"ratio 0.05\"])) \n",
    "    ```\n",
    "    - add more constraints (\"cuts\")\n",
    "    - try other methods, be creative"
   ]
  },
  {
   "cell_type": "markdown",
   "metadata": {
    "slideshow": {
     "slide_type": "slide"
    }
   },
   "source": [
    "# Thanks :)\n",
    "\n",
    "\n",
    "<br>\n",
    "\n",
    "<p>Charles (Chris) Ochoa \n",
    "<br> <a href=\"mailto:cochoa0x1@gmail.com\">cochoa0x1@gmail.com</a>\n",
    "<br>Data Scientist, Logrank Analytics\n",
    "</p>\n",
    "### slides: [http://bit.ly/pycseoul](http://bit.ly/pycseoul)\n",
    "\n",
    "<br>\n",
    "<img src=\"img/logrank_logo.png\" align=\"right\"/>"
   ]
  }
 ],
 "metadata": {
  "anaconda-cloud": {},
  "celltoolbar": "Slideshow",
  "kernelspec": {
   "display_name": "Python 3",
   "language": "python",
   "name": "python3"
  },
  "language_info": {
   "codemirror_mode": {
    "name": "ipython",
    "version": 3
   },
   "file_extension": ".py",
   "mimetype": "text/x-python",
   "name": "python",
   "nbconvert_exporter": "python",
   "pygments_lexer": "ipython3",
   "version": "3.6.2"
  },
  "nbpresent": {
   "slides": {
    "3a51dee0-496a-4337-9f6a-77b8419f5bf1": {
     "id": "3a51dee0-496a-4337-9f6a-77b8419f5bf1",
     "prev": "a590c2ef-77af-4771-92f5-6b3f459e9f3f",
     "regions": {
      "0aabe3ce-6461-4a92-aa3c-cadde454aa4e": {
       "attrs": {
        "height": 0.6203963482520596,
        "width": 0.7967935871743488,
        "x": 0.1,
        "y": 0.2796036517479403
       },
       "content": {
        "cell": "8173658a-f857-4de4-8895-937e527672ef",
        "part": "source"
       },
       "id": "0aabe3ce-6461-4a92-aa3c-cadde454aa4e"
      },
      "ab8b8417-6bc8-456e-814c-20756fe34e2c": {
       "attrs": {
        "height": 0.14753952349142727,
        "width": 0.8,
        "x": 0.1,
        "y": 0.1
       },
       "content": {
        "cell": "6a403843-f327-4829-a235-fac4bc6f6f51",
        "part": "source"
       },
       "id": "ab8b8417-6bc8-456e-814c-20756fe34e2c"
      }
     }
    },
    "4b2f932e-1083-4a1f-9b81-ab4c106eebd3": {
     "id": "4b2f932e-1083-4a1f-9b81-ab4c106eebd3",
     "prev": "3a51dee0-496a-4337-9f6a-77b8419f5bf1",
     "regions": {
      "2e196281-91a1-4261-afa6-3bf0ecf4e6dc": {
       "attrs": {
        "height": 0.6203963482520596,
        "width": 0.7967935871743488,
        "x": 0.1,
        "y": 0.2796036517479403
       },
       "content": null,
       "id": "2e196281-91a1-4261-afa6-3bf0ecf4e6dc"
      },
      "f13b5a7f-5a09-468f-a15f-0b6c14fe616e": {
       "attrs": {
        "height": 0.14753952349142727,
        "width": 0.8,
        "x": 0.1,
        "y": 0.1
       },
       "content": {
        "cell": "6a403843-f327-4829-a235-fac4bc6f6f51",
        "part": "source"
       },
       "id": "f13b5a7f-5a09-468f-a15f-0b6c14fe616e"
      }
     }
    },
    "a590c2ef-77af-4771-92f5-6b3f459e9f3f": {
     "id": "a590c2ef-77af-4771-92f5-6b3f459e9f3f",
     "prev": null,
     "regions": {
      "318c0fc4-d900-4b7d-ad98-561ac0d35a31": {
       "attrs": {
        "height": 0.14753952349142727,
        "width": 0.8,
        "x": 0.1,
        "y": 0.1
       },
       "content": {
        "cell": "edb1f534-8378-48eb-9701-7589a919e0d8",
        "part": "source"
       },
       "id": "318c0fc4-d900-4b7d-ad98-561ac0d35a31"
      },
      "622dc53f-b911-4f5e-8430-46caf1dff581": {
       "attrs": {
        "height": 0.6203963482520596,
        "width": 0.7967935871743488,
        "x": 0.1,
        "y": 0.2796036517479403
       },
       "content": {
        "cell": "bdd9849c-fe08-4917-a24c-909a7203168a",
        "part": "source"
       },
       "id": "622dc53f-b911-4f5e-8430-46caf1dff581"
      }
     }
    }
   },
   "themes": {
    "default": "55c5e468-c466-465c-86f7-bef35f0768ed",
    "theme": {}
   }
  }
 },
 "nbformat": 4,
 "nbformat_minor": 1
}
