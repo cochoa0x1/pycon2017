{
 "cells": [
  {
   "cell_type": "markdown",
   "metadata": {
    "nbpresent": {
     "id": "2d453c6f-d6a3-4c50-a3c2-a69472c60aa1"
    },
    "slideshow": {
     "slide_type": "slide"
    }
   },
   "source": [
    "# The Joy of Integer Programming\n",
    "### Solving hard combinatorial problems in python\n",
    "\n",
    "<hr>\n",
    "Charles C. Ochoa\n",
    "cochoa0x1@gmail.com\n",
    "\n",
    "slides: bitly.com/???\n",
    "\n",
    "<hr>\n",
    "\n",
    "<img src=\"img/pyconlogo-03.png\" align=\"left\"/>"
   ]
  },
  {
   "cell_type": "markdown",
   "metadata": {
    "nbpresent": {
     "id": "33447510-3fb7-4289-aa59-e388b78fabde"
    },
    "slideshow": {
     "slide_type": "subslide"
    }
   },
   "source": [
    "# Hard problems:\n",
    "\n",
    "* Routing\n",
    "* Scheduling\n",
    "* Policy\n",
    "* Resource Allocation\n",
    "* Network flows with funky conditions\n"
   ]
  },
  {
   "cell_type": "markdown",
   "metadata": {
    "nbpresent": {
     "id": "e60d961f-df3b-424e-9428-3c10553a4a24"
    },
    "slideshow": {
     "slide_type": "fragment"
    }
   },
   "source": [
    "* Optimizing a linear cost function under linear constraints"
   ]
  },
  {
   "cell_type": "markdown",
   "metadata": {
    "nbpresent": {
     "id": "2e3562fa-8767-4b8f-809d-77c70d4cef7a"
    },
    "slideshow": {
     "slide_type": "slide"
    }
   },
   "source": [
    "# Math Programming?\n",
    "\n",
    "\n",
    "$$minimize\\: f(x)\\\\subject\\, to\\: g(x) < 0 $$\n",
    "\n"
   ]
  },
  {
   "cell_type": "markdown",
   "metadata": {
    "slideshow": {
     "slide_type": "subslide"
    }
   },
   "source": [
    "# Linear Programs?\n",
    "\n",
    "A linear program is one where the metric or objective to minimize is linear and the constraints are linear, i.e.:\n",
    "\n",
    "$$f(x) = a_{0}x_{0} + a_{1}x_{1}+ \\dots + a_{n}x_{n}$$\n"
   ]
  },
  {
   "cell_type": "markdown",
   "metadata": {
    "slideshow": {
     "slide_type": "subslide"
    }
   },
   "source": [
    "# Integer Programs?\n",
    "\n",
    "Programs where the variables are integers ie, 0,1,2,3,... and some negatives.\n",
    "\n",
    "What if I have both? Mixed Integer"
   ]
  },
  {
   "cell_type": "markdown",
   "metadata": {
    "slideshow": {
     "slide_type": "subslide"
    }
   },
   "source": [
    "# who does this?\n",
    "\n",
    "* Very mature topic in operations research\n",
    "* Computer science people\n",
    "* Math people\n"
   ]
  },
  {
   "cell_type": "markdown",
   "metadata": {
    "slideshow": {
     "slide_type": "subslide"
    }
   },
   "source": [
    "# Lots of tools and languages exist\n",
    "\n",
    "|Name|License|Info|\n",
    "|---|---|---|\n",
    "|ADMB|\tBSD|\tnonlinear optimization framework, using automatic differentiation|\n",
    "|ALGLIB|\tGPL|\tnonlinear analysis library, optionally using automatic differentiation. Cross-language: C++, C#, Pascal, VBA.|\n",
    "|ASCEND|\tGPL|\tmathematical modelling system|\n",
    "|BOBYQA|\tLGPL|\tAn algorithm that seeks the least value of a nonlinear function subject to bound constraints, without using derivatives of the objective function.|\n",
    "|COBYLA|\tLGPL|\tAn algorithm that seeks the least value of a nonlinear function subject to nonlinear inequality constraints, without using derivatives of the objective function or the constraints.|\n",
    "|COIN-OR SYMPHONY|\tEclipse v.1|\tinteger programming|\n",
    "|CUTEr|\tGPL|\ttesting environment for optimization and linear algebra solvers|\n",
    "|dlib|\tBoost|\tA stand-alone C++ library with a variety of linear and non-linear solvers for small and large scale problems|\n",
    "|GLPK|\tGPL|\tGNU Linear Programming Kit|\n",
    "\n",
    "^ small sample (source: [wikipedia](https://en.wikipedia.org/wiki/List_of_optimization_software))\n"
   ]
  },
  {
   "cell_type": "markdown",
   "metadata": {
    "slideshow": {
     "slide_type": "slide"
    }
   },
   "source": [
    "# In Python?\n",
    "\n",
    "### Use python to model/setup the problem\n",
    "### Use one of the many free or commercial solvers to solve the problem"
   ]
  },
  {
   "cell_type": "markdown",
   "metadata": {
    "nbpresent": {
     "id": "310df9a9-9eb7-47ca-b636-6980abfc778b"
    },
    "slideshow": {
     "slide_type": "subslide"
    }
   },
   "source": [
    "## Python PuLP package for linear mixed integer program modeling"
   ]
  },
  {
   "cell_type": "markdown",
   "metadata": {
    "slideshow": {
     "slide_type": "fragment"
    }
   },
   "source": [
    "```bash \n",
    "pip install pulp\n",
    "```"
   ]
  },
  {
   "cell_type": "markdown",
   "metadata": {
    "nbpresent": {
     "id": "49ca3003-d68a-4a0d-8ce2-cb6dfa7b7edd"
    },
    "slideshow": {
     "slide_type": "slide"
    }
   },
   "source": [
    "# basic example \n",
    "$$minimize\\: f(x,y,z)=5x+10y+6z \\\\\n",
    "subject\\, to\\\\\n",
    "x+y+z \\geq 20 \\\\\n",
    "0\\leq x,y,z \\leq 10 \n",
    "$$\n"
   ]
  },
  {
   "cell_type": "markdown",
   "metadata": {
    "nbpresent": {
     "id": "edb1f534-8378-48eb-9701-7589a919e0d8"
    },
    "slideshow": {
     "slide_type": "subslide"
    }
   },
   "source": [
    "### 1. Setup the problem"
   ]
  },
  {
   "cell_type": "code",
   "execution_count": 3,
   "metadata": {
    "collapsed": true,
    "nbpresent": {
     "id": "bdd9849c-fe08-4917-a24c-909a7203168a"
    },
    "slideshow": {
     "slide_type": "-"
    }
   },
   "outputs": [],
   "source": [
    "from pulp import *\n",
    "\n",
    "prob = LpProblem(\"Hello!\",LpMinimize)"
   ]
  },
  {
   "cell_type": "markdown",
   "metadata": {
    "nbpresent": {
     "id": "bbc15764-aadc-4d1b-b983-92166d476aca"
    },
    "slideshow": {
     "slide_type": "subslide"
    }
   },
   "source": [
    "### 2. Setup the variables: "
   ]
  },
  {
   "cell_type": "code",
   "execution_count": 4,
   "metadata": {
    "nbpresent": {
     "id": "07604c93-812a-49b3-b68a-986490934f19"
    },
    "slideshow": {
     "slide_type": "-"
    }
   },
   "outputs": [],
   "source": [
    "x = LpVariable('x',lowBound=0, upBound=10, cat='Continuous')\n",
    "y = LpVariable('y',lowBound=0, upBound=10, cat='Continuous')\n",
    "z = LpVariable('z',lowBound=0, upBound=10, cat='Continuous')"
   ]
  },
  {
   "cell_type": "markdown",
   "metadata": {
    "nbpresent": {
     "id": "6a403843-f327-4829-a235-fac4bc6f6f51"
    },
    "slideshow": {
     "slide_type": "subslide"
    }
   },
   "source": [
    "### 3. Setup the objective and constraints"
   ]
  },
  {
   "cell_type": "code",
   "execution_count": 5,
   "metadata": {
    "nbpresent": {
     "id": "8173658a-f857-4de4-8895-937e527672ef"
    },
    "slideshow": {
     "slide_type": "-"
    }
   },
   "outputs": [],
   "source": [
    "#the objective\n",
    "prob+= 5*x+10*y+6*z"
   ]
  },
  {
   "cell_type": "code",
   "execution_count": 6,
   "metadata": {
    "collapsed": true,
    "slideshow": {
     "slide_type": "fragment"
    }
   },
   "outputs": [],
   "source": [
    "#the constraint\n",
    "prob+= x + y + z >= 20"
   ]
  },
  {
   "cell_type": "markdown",
   "metadata": {
    "nbpresent": {
     "id": "b77860f0-32ea-4366-b3d4-e7322250c6b1"
    },
    "slideshow": {
     "slide_type": "subslide"
    }
   },
   "source": [
    "### summary"
   ]
  },
  {
   "cell_type": "code",
   "execution_count": 7,
   "metadata": {
    "nbpresent": {
     "id": "de97127f-b406-4afc-9b43-8b4ccc78d880"
    },
    "slideshow": {
     "slide_type": "-"
    }
   },
   "outputs": [
    {
     "name": "stdout",
     "output_type": "stream",
     "text": [
      "Hello!:\n",
      "MINIMIZE\n",
      "5*x + 10*y + 6*z + 0\n",
      "SUBJECT TO\n",
      "_C1: x + y + z >= 20\n",
      "\n",
      "VARIABLES\n",
      "x <= 10 Continuous\n",
      "y <= 10 Continuous\n",
      "z <= 10 Continuous\n",
      "\n"
     ]
    }
   ],
   "source": [
    "print(prob)"
   ]
  },
  {
   "cell_type": "markdown",
   "metadata": {
    "nbpresent": {
     "id": "82a97e6b-90b9-4113-bcac-17e03cd7bf3d"
    },
    "slideshow": {
     "slide_type": "subslide"
    }
   },
   "source": [
    "### Solve it!"
   ]
  },
  {
   "cell_type": "code",
   "execution_count": 8,
   "metadata": {
    "nbpresent": {
     "id": "45cd1c3d-d561-40c2-ba43-e17b76b45b84"
    },
    "slideshow": {
     "slide_type": "-"
    }
   },
   "outputs": [
    {
     "name": "stdout",
     "output_type": "stream",
     "text": [
      "status: Optimal\n",
      "objective: 110.0\n"
     ]
    }
   ],
   "source": [
    "prob.solve()\n",
    "print('status:',LpStatus[prob.status])\n",
    "print('objective:', value(prob.objective))"
   ]
  },
  {
   "cell_type": "code",
   "execution_count": 9,
   "metadata": {
    "slideshow": {
     "slide_type": "fragment"
    }
   },
   "outputs": [
    {
     "name": "stdout",
     "output_type": "stream",
     "text": [
      "x 10.0\n",
      "y 0.0\n",
      "z 10.0\n"
     ]
    }
   ],
   "source": [
    "for v in prob.variables():\n",
    "    print(v, v.varValue)"
   ]
  },
  {
   "cell_type": "markdown",
   "metadata": {
    "nbpresent": {
     "id": "dd555cad-0919-403f-b9b8-e0eb500b1b83"
    },
    "slideshow": {
     "slide_type": "slide"
    }
   },
   "source": [
    "# Knapsack Problem\n",
    "\n",
    "How many items of different weights can we fit in our suitcase before our suitcase is too heavy. Which objects should we take?"
   ]
  },
  {
   "cell_type": "markdown",
   "metadata": {
    "nbpresent": {
     "id": "fb773be6-847a-4c81-9115-1dd2fce4f73b"
    },
    "slideshow": {
     "slide_type": "subslide"
    }
   },
   "source": [
    "### 1. First lets make some fake data"
   ]
  },
  {
   "cell_type": "code",
   "execution_count": 10,
   "metadata": {
    "nbpresent": {
     "id": "a1a14a40-77af-4116-bff4-88b0c0280401"
    },
    "slideshow": {
     "slide_type": "-"
    }
   },
   "outputs": [],
   "source": [
    "import numpy as np\n",
    "\n",
    "items=['item_%d'%i for i in range(20)]\n",
    "item_weights = dict( (i,np.random.randint(1,20)) for i in items)\n",
    "item_values = dict( (i,10*np.random.rand()) for i in items)\n",
    "\n",
    "#target weight\n",
    "W = 100"
   ]
  },
  {
   "cell_type": "code",
   "execution_count": 11,
   "metadata": {
    "collapsed": true,
    "nbpresent": {
     "id": "f55cad95-54f3-40ea-9e05-6a6959037ad9"
    },
    "slideshow": {
     "slide_type": "fragment"
    }
   },
   "outputs": [],
   "source": [
    "#create the problem\n",
    "prob=LpProblem(\"knapsack\",LpMaximize)\n",
    "\n",
    "#variables. How many of each object to take. For simplicity lets make this 0 or 1 (classic 0-1 knapsack problem)\n",
    "x = LpVariable.dicts('item',items,0,1, LpBinary)\n",
    "\n",
    "#the objective\n",
    "prob+= lpSum([ item_values[i]*x[i] for i in items])\n",
    "\n",
    "#constraint\n",
    "prob += lpSum([ item_weights[i]*x[i] for i in items]) <= W\n"
   ]
  },
  {
   "cell_type": "code",
   "execution_count": 12,
   "metadata": {
    "nbpresent": {
     "id": "72be02c1-7f00-45a3-9396-fb51eb65febc"
    },
    "slideshow": {
     "slide_type": "fragment"
    }
   },
   "outputs": [
    {
     "name": "stdout",
     "output_type": "stream",
     "text": [
      "Optimal\n"
     ]
    }
   ],
   "source": [
    "prob.solve()\n",
    "print(LpStatus[prob.status])"
   ]
  },
  {
   "cell_type": "markdown",
   "metadata": {
    "nbpresent": {
     "id": "289d1446-2d3a-4321-8251-380db4ce465e"
    },
    "slideshow": {
     "slide_type": "subslide"
    }
   },
   "source": [
    "### and the results"
   ]
  },
  {
   "cell_type": "code",
   "execution_count": 13,
   "metadata": {
    "nbpresent": {
     "id": "38ea50b9-97af-4e7a-8e01-dacbef461181"
    },
    "slideshow": {
     "slide_type": "-"
    }
   },
   "outputs": [
    {
     "name": "stdout",
     "output_type": "stream",
     "text": [
      "item_2 1.0\n",
      "item_3 1.0\n",
      "item_4 1.0\n",
      "item_5 1.0\n",
      "item_6 1.0\n",
      "item_9 1.0\n",
      "item_10 1.0\n",
      "item_11 1.0\n",
      "item_12 1.0\n",
      "item_13 1.0\n",
      "item_14 1.0\n",
      "item_17 1.0\n",
      "item_18 1.0\n",
      "item_19 1.0\n"
     ]
    }
   ],
   "source": [
    "for i in items:\n",
    "    if value(x[i]) > 0 : print(i, value(x[i]))"
   ]
  },
  {
   "cell_type": "markdown",
   "metadata": {
    "slideshow": {
     "slide_type": "slide"
    }
   },
   "source": [
    "# Binary variables are awesome\n",
    "\n",
    "### we can model basic logical operations (x,y binary)\n",
    " \n",
    "|logical operation|new binary variable|\n",
    "|---|---|\n",
    "|not x\t|$z = 1-x$|\n",
    "|x or y|$ z \\geq x \\\\z \\geq y \\\\z \\leq x+y$|\n",
    "|x and y|$ z \\leq x \\\\z \\leq y \\\\z \\geq x+y - 1$|\n",
    "|$ x\\implies y $|$y \\geq x$|"
   ]
  },
  {
   "cell_type": "markdown",
   "metadata": {
    "slideshow": {
     "slide_type": "subslide"
    }
   },
   "source": [
    "### we can model optional enforcement of constraints, this is called the \"Big M method\"\n",
    "\n",
    "#### need two constraints\n",
    "if $b=1$ then $F(x) \\geq 0$\n",
    "\n",
    "if $b=0$ then $G(x) \\geq 0$\n",
    "\n",
    "#### also a big number that bounds the constraints\n",
    "Find a bound $M$ such that $|F| \\leq M$ and $|G| \\leq M$. \n",
    "\n",
    "#### use this!\n",
    "$$F(x) \\geq -M(1-b) \\\\\n",
    "G(x) \\geq -M(b)$$"
   ]
  },
  {
   "cell_type": "markdown",
   "metadata": {
    "slideshow": {
     "slide_type": "subslide"
    }
   },
   "source": [
    "### example\n",
    "$$ x \\geq 10 \\\\ \\text{or}\\\\ x \\leq 20$$\n",
    "$|x| \\leq 100$ so set $M=1000$\n",
    "\n",
    "\n",
    "\n",
    "#### result:\n",
    "$$x \\geq 10 - M(1-b) \\\\\n",
    "x \\leq 20 + M(b)$$"
   ]
  },
  {
   "cell_type": "markdown",
   "metadata": {
    "slideshow": {
     "slide_type": "subslide"
    }
   },
   "source": [
    "### we can model non linear functions! (kinda)\n",
    "\n",
    "#### approximate a non linear function with a piecewise linear approximation\n",
    "\n",
    "\n",
    "<img src=\"img/placehold_linear.png\"/>\n"
   ]
  },
  {
   "cell_type": "markdown",
   "metadata": {
    "slideshow": {
     "slide_type": "slide"
    }
   },
   "source": [
    "# the not joyful parts\n",
    "\n",
    "* Debugging: Check all asssumptions, make sure problem is solveable before trying to solve it\n",
    "* Form matters: The way you model the problem has a direct and sometimes dramatic influence on the running time\n",
    "* Hard to know what is hard: Some problems finish in seconds, others may take hours\n",
    "* Long running times:\n",
    "    - accept a result within a certain percentage of the optimal bound\n",
    "    - add more constraints (add cuts)\n",
    "    - solve smaller problems\n",
    "    - get a bigger computer"
   ]
  },
  {
   "cell_type": "markdown",
   "metadata": {
    "slideshow": {
     "slide_type": "slide"
    }
   },
   "source": [
    "# Thanks :)\n",
    "\n",
    "\n",
    "cochoa0x1@gmail.com\n",
    "\n",
    "???.bitly.com\n",
    "\n"
   ]
  }
 ],
 "metadata": {
  "anaconda-cloud": {},
  "celltoolbar": "Slideshow",
  "kernelspec": {
   "display_name": "Python 3",
   "language": "python",
   "name": "python3"
  },
  "nbpresent": {
   "slides": {
    "3a51dee0-496a-4337-9f6a-77b8419f5bf1": {
     "id": "3a51dee0-496a-4337-9f6a-77b8419f5bf1",
     "prev": "a590c2ef-77af-4771-92f5-6b3f459e9f3f",
     "regions": {
      "0aabe3ce-6461-4a92-aa3c-cadde454aa4e": {
       "attrs": {
        "height": 0.6203963482520596,
        "width": 0.7967935871743488,
        "x": 0.1,
        "y": 0.2796036517479403
       },
       "content": {
        "cell": "8173658a-f857-4de4-8895-937e527672ef",
        "part": "source"
       },
       "id": "0aabe3ce-6461-4a92-aa3c-cadde454aa4e"
      },
      "ab8b8417-6bc8-456e-814c-20756fe34e2c": {
       "attrs": {
        "height": 0.14753952349142727,
        "width": 0.8,
        "x": 0.1,
        "y": 0.1
       },
       "content": {
        "cell": "6a403843-f327-4829-a235-fac4bc6f6f51",
        "part": "source"
       },
       "id": "ab8b8417-6bc8-456e-814c-20756fe34e2c"
      }
     }
    },
    "4b2f932e-1083-4a1f-9b81-ab4c106eebd3": {
     "id": "4b2f932e-1083-4a1f-9b81-ab4c106eebd3",
     "prev": "3a51dee0-496a-4337-9f6a-77b8419f5bf1",
     "regions": {
      "2e196281-91a1-4261-afa6-3bf0ecf4e6dc": {
       "attrs": {
        "height": 0.6203963482520596,
        "width": 0.7967935871743488,
        "x": 0.1,
        "y": 0.2796036517479403
       },
       "content": null,
       "id": "2e196281-91a1-4261-afa6-3bf0ecf4e6dc"
      },
      "f13b5a7f-5a09-468f-a15f-0b6c14fe616e": {
       "attrs": {
        "height": 0.14753952349142727,
        "width": 0.8,
        "x": 0.1,
        "y": 0.1
       },
       "content": {
        "cell": "6a403843-f327-4829-a235-fac4bc6f6f51",
        "part": "source"
       },
       "id": "f13b5a7f-5a09-468f-a15f-0b6c14fe616e"
      }
     }
    },
    "a590c2ef-77af-4771-92f5-6b3f459e9f3f": {
     "id": "a590c2ef-77af-4771-92f5-6b3f459e9f3f",
     "prev": null,
     "regions": {
      "318c0fc4-d900-4b7d-ad98-561ac0d35a31": {
       "attrs": {
        "height": 0.14753952349142727,
        "width": 0.8,
        "x": 0.1,
        "y": 0.1
       },
       "content": {
        "cell": "edb1f534-8378-48eb-9701-7589a919e0d8",
        "part": "source"
       },
       "id": "318c0fc4-d900-4b7d-ad98-561ac0d35a31"
      },
      "622dc53f-b911-4f5e-8430-46caf1dff581": {
       "attrs": {
        "height": 0.6203963482520596,
        "width": 0.7967935871743488,
        "x": 0.1,
        "y": 0.2796036517479403
       },
       "content": {
        "cell": "bdd9849c-fe08-4917-a24c-909a7203168a",
        "part": "source"
       },
       "id": "622dc53f-b911-4f5e-8430-46caf1dff581"
      }
     }
    }
   },
   "themes": {
    "default": "55c5e468-c466-465c-86f7-bef35f0768ed",
    "theme": {}
   }
  }
 },
 "nbformat": 4,
 "nbformat_minor": 1
}
